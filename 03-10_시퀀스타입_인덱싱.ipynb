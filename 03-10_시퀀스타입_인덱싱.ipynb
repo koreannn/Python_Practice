{
 "cells": [
  {
   "cell_type": "markdown",
   "id": "5133d724",
   "metadata": {},
   "source": [
    "### 시퀀스 타입 자료형\n",
    "- '순서를 가짐으로써' 의미를 갖는 자료형\n",
    "- e.g. 리스트, 튜플, 문자열, Range, ..\n",
    "- `cmp`, `len`, `min`, `max`, `append`, `list`, `extend`, `index`, `insert`, `pop`, `remove`, `reverse`, `sort`, `sorted`, ..."
   ]
  },
  {
   "cell_type": "code",
   "execution_count": null,
   "id": "f897dc5c",
   "metadata": {},
   "outputs": [
    {
     "name": "stdout",
     "output_type": "stream",
     "text": [
      "4\n",
      "Banana\n",
      "4\n"
     ]
    }
   ],
   "source": [
    "x = ['Orange', 'Cherry', 'Apple', 'Kiwi', 'Banana', 'Strawberry']\n",
    "\n",
    "idx = x.index('Banana')\n",
    "print(idx)\n",
    "print(x[idx])\n",
    "\n",
    "print(x.index('Banana', 4, len(x))) # 인덱스의 시작점과 끝점을 지정할 수 있음 -> \"4번 인덱스부터 x의 끝까지 중 Banana가 어디에 포함되어있는가?\""
   ]
  },
  {
   "cell_type": "code",
   "execution_count": null,
   "id": "adfade66",
   "metadata": {},
   "outputs": [],
   "source": [
    "print('Banana' in x)"
   ]
  }
 ],
 "metadata": {
  "kernelspec": {
   "display_name": "AI_Tech_project1",
   "language": "python",
   "name": "python3"
  },
  "language_info": {
   "codemirror_mode": {
    "name": "ipython",
    "version": 3
   },
   "file_extension": ".py",
   "mimetype": "text/x-python",
   "name": "python",
   "nbconvert_exporter": "python",
   "pygments_lexer": "ipython3",
   "version": "3.12.0"
  }
 },
 "nbformat": 4,
 "nbformat_minor": 5
}
