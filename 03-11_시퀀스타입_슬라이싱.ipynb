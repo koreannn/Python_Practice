{
 "cells": [
  {
   "cell_type": "code",
   "execution_count": 3,
   "id": "c3b46f5b",
   "metadata": {},
   "outputs": [
    {
     "name": "stdout",
     "output_type": "stream",
     "text": [
      "['e', 'f', 'g']\n",
      "['e', 'f', 'g']\n",
      "['e', 'f', 'g']\n",
      "['e', 'f', 'g']\n",
      "['e', 'f', 'g']\n",
      "\n",
      "['g', 'f', 'e']\n",
      "<list_reverseiterator object at 0x1096f6c80>\n"
     ]
    }
   ],
   "source": [
    "x = ['a', 'b', 'c', 'd', 'e', 'f', 'g', 'h', 'i', 'j', 'k', 'l', 'm']\n",
    "\n",
    "\n",
    "# [e, f, g]를 만드는 방법\n",
    "print(x[4:7])\n",
    "print(x[-9:-6])\n",
    "print(x[4:-6])\n",
    "print(x[-9:7])\n",
    "print(x[-9:-6:1])\n",
    "print()\n",
    "print(x[6:3:-1])\n",
    "print(reversed(x[6:3:-1]))"
   ]
  },
  {
   "cell_type": "markdown",
   "id": "981384a9",
   "metadata": {},
   "source": [
    "참고로, `reversed()`를 하면 제너레이터 타입으로 만들어지므로, 리스트로 쓸거면 형변환을 해줘야함"
   ]
  },
  {
   "cell_type": "code",
   "execution_count": 2,
   "id": "3e1c370c",
   "metadata": {},
   "outputs": [
    {
     "name": "stdout",
     "output_type": "stream",
     "text": [
      "['e', 'f', 'g']\n"
     ]
    }
   ],
   "source": [
    "print(list(reversed(x[6:3:-1])))"
   ]
  }
 ],
 "metadata": {
  "kernelspec": {
   "display_name": "AI_Tech_project1",
   "language": "python",
   "name": "python3"
  },
  "language_info": {
   "codemirror_mode": {
    "name": "ipython",
    "version": 3
   },
   "file_extension": ".py",
   "mimetype": "text/x-python",
   "name": "python",
   "nbconvert_exporter": "python",
   "pygments_lexer": "ipython3",
   "version": "3.12.0"
  }
 },
 "nbformat": 4,
 "nbformat_minor": 5
}
