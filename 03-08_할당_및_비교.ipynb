{
 "cells": [
  {
   "cell_type": "markdown",
   "id": "c62e3686",
   "metadata": {},
   "source": [
    "# 할당과 비교 연산자\n",
    "- 불필요하게 객체를 생성해서 리소스를 과하게 사용하는 상황을 방지할 수 있다."
   ]
  },
  {
   "cell_type": "markdown",
   "id": "fcd4353a",
   "metadata": {},
   "source": [
    "---\n",
    "# == 연산자와 is 연산자\n",
    "\n",
    "- `==`연산은 수치값의 비교 연산자이다.\n",
    "- `is` 연산은 Object의 비교 연산자이다.\n",
    "    - 값이 다르면 객체도 다르다."
   ]
  },
  {
   "cell_type": "markdown",
   "id": "7ae49119",
   "metadata": {},
   "source": [
    "##### ex.1"
   ]
  },
  {
   "cell_type": "code",
   "execution_count": 2,
   "id": "f5bd01d2",
   "metadata": {},
   "outputs": [
    {
     "name": "stdout",
     "output_type": "stream",
     "text": [
      "x==y: False\n",
      "x is y: False\n",
      "x value, id: 15, 0x105160e38\n",
      "y value, id: 25, 0x105160f78\n"
     ]
    }
   ],
   "source": [
    "x = 15\n",
    "y = 25\n",
    "\n",
    "print(f\"x==y: {x==y}\")\n",
    "print(f\"x is y: {x is y}\")\n",
    "\n",
    "print(f\"x value, id: {x}, {hex(id(x))}\")\n",
    "print(f\"y value, id: {y}, {hex(id(y))}\")"
   ]
  },
  {
   "cell_type": "code",
   "execution_count": 3,
   "id": "b617bd1a",
   "metadata": {},
   "outputs": [
    {
     "name": "stdout",
     "output_type": "stream",
     "text": [
      "x is y: True\n"
     ]
    }
   ],
   "source": [
    "x = 15\n",
    "y = 15\n",
    "print(f\"x is y: {x is y}\")"
   ]
  },
  {
   "cell_type": "markdown",
   "id": "02b6d595",
   "metadata": {},
   "source": [
    "##### ex.2"
   ]
  },
  {
   "cell_type": "code",
   "execution_count": 4,
   "id": "679dd74b",
   "metadata": {},
   "outputs": [
    {
     "name": "stdout",
     "output_type": "stream",
     "text": [
      "x==y: True\n",
      "x is y: True\n",
      "x value, id: ['a', 'b', 'c'], 0x112d1c7c0\n",
      "y value, id: ['a', 'b', 'c'], 0x112d1c7c0\n"
     ]
    }
   ],
   "source": [
    "x = ['a', 'b', 'c']\n",
    "y = x\n",
    "\n",
    "print(f\"x==y: {x==y}\")\n",
    "print(f\"x is y: {x is y}\")\n",
    "\n",
    "print(f\"x value, id: {x}, {hex(id(x))}\")\n",
    "print(f\"y value, id: {y}, {hex(id(y))}\")"
   ]
  },
  {
   "cell_type": "markdown",
   "id": "1d361f29",
   "metadata": {},
   "source": [
    "##### ex.3"
   ]
  },
  {
   "cell_type": "code",
   "execution_count": 5,
   "id": "5134c66b",
   "metadata": {},
   "outputs": [
    {
     "name": "stdout",
     "output_type": "stream",
     "text": [
      "x==y: True\n",
      "x is y: False\n",
      "x value, id: ['a', 'b', 'c'], 0x112d460c0\n",
      "y value, id: ['a', 'b', 'c'], 0x112d6d000\n"
     ]
    }
   ],
   "source": [
    "x = ['a', 'b', 'c']\n",
    "y = ['a', 'b', 'c']\n",
    "\n",
    "print(f\"x==y: {x==y}\")\n",
    "print(f\"x is y: {x is y}\")\n",
    "\n",
    "print(f\"x value, id: {x}, {hex(id(x))}\")\n",
    "print(f\"y value, id: {y}, {hex(id(y))}\")"
   ]
  },
  {
   "cell_type": "markdown",
   "id": "d5b09cfd",
   "metadata": {},
   "source": [
    "- 파이썬은 일반적으로 객체를 재사용하지 않는데, 그 이유는 값을 변경했을 때 다른 부분에서의 의도치 않은 변경사항을 만들어낼 위험이 있기 때문이다.\n",
    "- 값 자체는 동일하지만, 할당된 주소가 다르기 떄문에 서로 다른 객체이다.\n",
    "- 만약 같은 값을 사용함에도 불구하고, 불필요하게 계속 새로운 객체를 생성해서 쓸 경우 리소스의 낭비가 발생한다."
   ]
  }
 ],
 "metadata": {
  "kernelspec": {
   "display_name": "AI_Tech_project1",
   "language": "python",
   "name": "python3"
  },
  "language_info": {
   "codemirror_mode": {
    "name": "ipython",
    "version": 3
   },
   "file_extension": ".py",
   "mimetype": "text/x-python",
   "name": "python",
   "nbconvert_exporter": "python",
   "pygments_lexer": "ipython3",
   "version": "3.12.0"
  }
 },
 "nbformat": 4,
 "nbformat_minor": 5
}
